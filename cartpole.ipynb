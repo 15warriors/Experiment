{
 "cells": [
  {
   "cell_type": "code",
   "execution_count": 1,
   "metadata": {},
   "outputs": [
    {
     "name": "stderr",
     "output_type": "stream",
     "text": [
      "Using TensorFlow backend.\n"
     ]
    }
   ],
   "source": [
    "from keras.models import Sequential      \n",
    "from keras.layers import Dense, Flatten  \n",
    "from collections import deque            \n",
    "import numpy as np\n",
    "from keras.layers import Dense,Dropout\n",
    "from tqdm import tqdm\n",
    "from keras import optimizers\n",
    "import random\n",
    "from collections import Counter\n",
    "import gym\n",
    "import time"
   ]
  },
  {
   "cell_type": "code",
   "execution_count": 2,
   "metadata": {},
   "outputs": [],
   "source": [
    "env = gym.make('CartPole-v0')"
   ]
  },
  {
   "cell_type": "code",
   "execution_count": 3,
   "metadata": {},
   "outputs": [],
   "source": [
    "model = Sequential()\n",
    "model.add(Dense(50, input_shape=(4,),activation='relu'))\n",
    "model.add(Dense(256,kernel_initializer='normal', activation='relu'))\n",
    "Dropout(0.5)\n",
    "model.add(Dense(128,kernel_initializer='normal', activation='relu'))\n",
    "Dropout(0.5)\n",
    "model.add(Dense(512,kernel_initializer='normal', activation='relu'))\n",
    "Dropout(0.5)\n",
    "model.add(Dense(128,kernel_initializer='normal', activation='relu'))\n",
    "Dropout(0.5)\n",
    "model.add(Dense(1,kernel_initializer='normal',activation='sigmoid'))    "
   ]
  },
  {
   "cell_type": "code",
   "execution_count": 4,
   "metadata": {},
   "outputs": [
    {
     "name": "stdout",
     "output_type": "stream",
     "text": [
      "Model: \"sequential_1\"\n",
      "_________________________________________________________________\n",
      "Layer (type)                 Output Shape              Param #   \n",
      "=================================================================\n",
      "dense_1 (Dense)              (None, 50)                250       \n",
      "_________________________________________________________________\n",
      "dense_2 (Dense)              (None, 256)               13056     \n",
      "_________________________________________________________________\n",
      "dense_3 (Dense)              (None, 128)               32896     \n",
      "_________________________________________________________________\n",
      "dense_4 (Dense)              (None, 512)               66048     \n",
      "_________________________________________________________________\n",
      "dense_5 (Dense)              (None, 128)               65664     \n",
      "_________________________________________________________________\n",
      "dense_6 (Dense)              (None, 1)                 129       \n",
      "=================================================================\n",
      "Total params: 178,043\n",
      "Trainable params: 178,043\n",
      "Non-trainable params: 0\n",
      "_________________________________________________________________\n"
     ]
    }
   ],
   "source": [
    "model.summary()"
   ]
  },
  {
   "cell_type": "code",
   "execution_count": 5,
   "metadata": {},
   "outputs": [],
   "source": [
    "observetime = 500\n",
    "epsilon = 1.0\n",
    "score_requirement = 50"
   ]
  },
  {
   "cell_type": "code",
   "execution_count": 6,
   "metadata": {},
   "outputs": [],
   "source": [
    "def epsilon_update(epsilon):\n",
    "    epsilon_decay = 0.95\n",
    "    lowest_epsilon = 0.3\n",
    "    if epsilon > lowest_epsilon:\n",
    "        epsilon *= epsilon_decay\n",
    "        \n",
    "    return epsilon"
   ]
  },
  {
   "cell_type": "code",
   "execution_count": 7,
   "metadata": {},
   "outputs": [],
   "source": [
    "def population(initial_games):  \n",
    "    accepted_scores=[]\n",
    "    training_data=[]\n",
    "    scores=[]\n",
    "    \n",
    "    for _ in tqdm(range(initial_games)):\n",
    "        observation = env.reset()\n",
    "        obs = observation\n",
    "        state = obs\n",
    "        score=0\n",
    "        game_memory=[]\n",
    "        prev_observation=[]\n",
    "        epsilon = 1.0\n",
    "        for _ in range(observetime):           \n",
    "            env.render()\n",
    "            if np.random.rand() <= epsilon:\n",
    "                action = random.randint(0,1)\n",
    "            else:\n",
    "                state = np.squeeze(state).reshape(1,4)\n",
    "                Q = model.predict(state) \n",
    "                action = np.int(np.round(Q))\n",
    "            observation_new, reward, done, info = env.step(action)     \n",
    "            obs_new = observation_new          \n",
    "            state_new = obs_new     \n",
    "            if len(prev_observation)>0:\n",
    "                game_memory.append([prev_observation,action])\n",
    "            state = state_new         \n",
    "            prev_observation = state_new\n",
    "            score+=1\n",
    "            epsilon = epsilon_update(epsilon)\n",
    "                \n",
    "            if done:\n",
    "                #print(epsilon)\n",
    "                break\n",
    "        \n",
    "        #if score>=score_requirement:\n",
    "            accepted_scores.append(scores)\n",
    "            for data in game_memory:\n",
    "                if data[1]==1:\n",
    "                    output=[1]\n",
    "                else: \n",
    "                    output=[0]\n",
    "                \n",
    "                training_data.append([data[0],output])\n",
    "                                \n",
    "                \n",
    "        env.reset()\n",
    "        scores.append(score)\n",
    "    \n",
    "    np.save('mem.npz',training_data)\n",
    "    #print(accepted_scores)\n",
    "    #print(scores)\n",
    "    #print(len(accepted_scores))\n",
    "    print(\"Avg accepted score: \",np.mean(accepted_scores))\n",
    "    print(\"Median accepted score: \",np.median(accepted_scores))\n",
    "    env.close()     \n",
    "    \n",
    "    return training_data"
   ]
  },
  {
   "cell_type": "code",
   "execution_count": 8,
   "metadata": {},
   "outputs": [
    {
     "name": "stderr",
     "output_type": "stream",
     "text": [
      "100%|██████████| 2500/2500 [05:18<00:00,  7.84it/s]\n"
     ]
    },
    {
     "name": "stdout",
     "output_type": "stream",
     "text": [
      "Avg accepted score:  18.2544\n",
      "Median accepted score:  17.0\n"
     ]
    }
   ],
   "source": [
    "training_data = population(2500)"
   ]
  },
  {
   "cell_type": "code",
   "execution_count": 9,
   "metadata": {},
   "outputs": [],
   "source": [
    "X = np.array([i[0] for i in training_data])\n",
    "y = [i[1] for i in training_data]"
   ]
  },
  {
   "cell_type": "code",
   "execution_count": 10,
   "metadata": {},
   "outputs": [
    {
     "data": {
      "text/plain": [
       "2"
      ]
     },
     "execution_count": 10,
     "metadata": {},
     "output_type": "execute_result"
    }
   ],
   "source": [
    "X.ndim"
   ]
  },
  {
   "cell_type": "code",
   "execution_count": 12,
   "metadata": {},
   "outputs": [],
   "source": [
    "X = np.array(X)"
   ]
  },
  {
   "cell_type": "code",
   "execution_count": 14,
   "metadata": {},
   "outputs": [],
   "source": [
    "model.compile(loss='binary_crossentropy', optimizer='adam', metrics=['accuracy'])"
   ]
  },
  {
   "cell_type": "code",
   "execution_count": 15,
   "metadata": {},
   "outputs": [
    {
     "name": "stdout",
     "output_type": "stream",
     "text": [
      "Epoch 1/5\n",
      "403245/403245 [==============================] - ETA: 26:08 - loss: 0.6928 - accuracy: 0.620 - ETA: 1:28 - loss: 0.6670 - accuracy: 0.633 - ETA: 45s - loss: 0.6636 - accuracy: 0.6247 - ETA: 33s - loss: 0.6596 - accuracy: 0.624 - ETA: 27s - loss: 0.6605 - accuracy: 0.619 - ETA: 23s - loss: 0.6582 - accuracy: 0.622 - ETA: 20s - loss: 0.6553 - accuracy: 0.621 - ETA: 19s - loss: 0.6546 - accuracy: 0.620 - ETA: 17s - loss: 0.6552 - accuracy: 0.618 - ETA: 16s - loss: 0.6549 - accuracy: 0.619 - ETA: 15s - loss: 0.6536 - accuracy: 0.620 - ETA: 14s - loss: 0.6547 - accuracy: 0.617 - ETA: 14s - loss: 0.6539 - accuracy: 0.619 - ETA: 13s - loss: 0.6537 - accuracy: 0.618 - ETA: 13s - loss: 0.6538 - accuracy: 0.618 - ETA: 12s - loss: 0.6541 - accuracy: 0.617 - ETA: 12s - loss: 0.6538 - accuracy: 0.617 - ETA: 12s - loss: 0.6538 - accuracy: 0.617 - ETA: 12s - loss: 0.6539 - accuracy: 0.618 - ETA: 11s - loss: 0.6542 - accuracy: 0.617 - ETA: 11s - loss: 0.6544 - accuracy: 0.617 - ETA: 11s - loss: 0.6536 - accuracy: 0.618 - ETA: 11s - loss: 0.6527 - accuracy: 0.619 - ETA: 10s - loss: 0.6525 - accuracy: 0.619 - ETA: 10s - loss: 0.6518 - accuracy: 0.620 - ETA: 10s - loss: 0.6518 - accuracy: 0.620 - ETA: 10s - loss: 0.6513 - accuracy: 0.621 - ETA: 10s - loss: 0.6511 - accuracy: 0.621 - ETA: 10s - loss: 0.6512 - accuracy: 0.620 - ETA: 9s - loss: 0.6511 - accuracy: 0.620 - ETA: 9s - loss: 0.6511 - accuracy: 0.62 - ETA: 9s - loss: 0.6509 - accuracy: 0.62 - ETA: 9s - loss: 0.6509 - accuracy: 0.62 - ETA: 9s - loss: 0.6510 - accuracy: 0.61 - ETA: 9s - loss: 0.6508 - accuracy: 0.62 - ETA: 9s - loss: 0.6508 - accuracy: 0.61 - ETA: 9s - loss: 0.6506 - accuracy: 0.61 - ETA: 8s - loss: 0.6503 - accuracy: 0.62 - ETA: 8s - loss: 0.6502 - accuracy: 0.62 - ETA: 8s - loss: 0.6502 - accuracy: 0.62 - ETA: 8s - loss: 0.6502 - accuracy: 0.62 - ETA: 8s - loss: 0.6502 - accuracy: 0.62 - ETA: 8s - loss: 0.6502 - accuracy: 0.61 - ETA: 8s - loss: 0.6503 - accuracy: 0.61 - ETA: 8s - loss: 0.6501 - accuracy: 0.61 - ETA: 8s - loss: 0.6500 - accuracy: 0.61 - ETA: 8s - loss: 0.6499 - accuracy: 0.61 - ETA: 8s - loss: 0.6496 - accuracy: 0.62 - ETA: 7s - loss: 0.6495 - accuracy: 0.62 - ETA: 7s - loss: 0.6495 - accuracy: 0.62 - ETA: 7s - loss: 0.6492 - accuracy: 0.62 - ETA: 7s - loss: 0.6494 - accuracy: 0.62 - ETA: 7s - loss: 0.6495 - accuracy: 0.62 - ETA: 7s - loss: 0.6495 - accuracy: 0.62 - ETA: 7s - loss: 0.6495 - accuracy: 0.61 - ETA: 7s - loss: 0.6494 - accuracy: 0.61 - ETA: 7s - loss: 0.6495 - accuracy: 0.61 - ETA: 7s - loss: 0.6494 - accuracy: 0.61 - ETA: 7s - loss: 0.6494 - accuracy: 0.61 - ETA: 7s - loss: 0.6493 - accuracy: 0.61 - ETA: 7s - loss: 0.6491 - accuracy: 0.61 - ETA: 7s - loss: 0.6491 - accuracy: 0.61 - ETA: 6s - loss: 0.6491 - accuracy: 0.61 - ETA: 6s - loss: 0.6490 - accuracy: 0.61 - ETA: 6s - loss: 0.6489 - accuracy: 0.61 - ETA: 6s - loss: 0.6489 - accuracy: 0.61 - ETA: 6s - loss: 0.6490 - accuracy: 0.61 - ETA: 6s - loss: 0.6491 - accuracy: 0.61 - ETA: 6s - loss: 0.6490 - accuracy: 0.61 - ETA: 6s - loss: 0.6490 - accuracy: 0.61 - ETA: 6s - loss: 0.6489 - accuracy: 0.61 - ETA: 6s - loss: 0.6488 - accuracy: 0.61 - ETA: 6s - loss: 0.6487 - accuracy: 0.61 - ETA: 6s - loss: 0.6489 - accuracy: 0.61 - ETA: 6s - loss: 0.6488 - accuracy: 0.61 - ETA: 5s - loss: 0.6488 - accuracy: 0.61 - ETA: 5s - loss: 0.6487 - accuracy: 0.61 - ETA: 5s - loss: 0.6486 - accuracy: 0.61 - ETA: 5s - loss: 0.6486 - accuracy: 0.61 - ETA: 5s - loss: 0.6488 - accuracy: 0.61 - ETA: 5s - loss: 0.6487 - accuracy: 0.61 - ETA: 5s - loss: 0.6487 - accuracy: 0.61 - ETA: 5s - loss: 0.6488 - accuracy: 0.61 - ETA: 5s - loss: 0.6488 - accuracy: 0.61 - ETA: 5s - loss: 0.6487 - accuracy: 0.61 - ETA: 5s - loss: 0.6486 - accuracy: 0.61 - ETA: 5s - loss: 0.6486 - accuracy: 0.61 - ETA: 5s - loss: 0.6488 - accuracy: 0.61 - ETA: 5s - loss: 0.6488 - accuracy: 0.61 - ETA: 5s - loss: 0.6489 - accuracy: 0.61 - ETA: 5s - loss: 0.6487 - accuracy: 0.61 - ETA: 4s - loss: 0.6487 - accuracy: 0.61 - ETA: 4s - loss: 0.6487 - accuracy: 0.61 - ETA: 4s - loss: 0.6486 - accuracy: 0.61 - ETA: 4s - loss: 0.6487 - accuracy: 0.61 - ETA: 4s - loss: 0.6487 - accuracy: 0.61 - ETA: 4s - loss: 0.6487 - accuracy: 0.61 - ETA: 4s - loss: 0.6487 - accuracy: 0.61 - ETA: 4s - loss: 0.6488 - accuracy: 0.61 - ETA: 4s - loss: 0.6488 - accuracy: 0.61 - ETA: 4s - loss: 0.6488 - accuracy: 0.61 - ETA: 4s - loss: 0.6488 - accuracy: 0.61 - ETA: 4s - loss: 0.6488 - accuracy: 0.61 - ETA: 4s - loss: 0.6488 - accuracy: 0.61 - ETA: 4s - loss: 0.6488 - accuracy: 0.61 - ETA: 4s - loss: 0.6488 - accuracy: 0.61 - ETA: 4s - loss: 0.6487 - accuracy: 0.61 - ETA: 4s - loss: 0.6487 - accuracy: 0.61 - ETA: 3s - loss: 0.6486 - accuracy: 0.61 - ETA: 3s - loss: 0.6487 - accuracy: 0.61 - ETA: 3s - loss: 0.6487 - accuracy: 0.61 - ETA: 3s - loss: 0.6486 - accuracy: 0.61 - ETA: 3s - loss: 0.6484 - accuracy: 0.61 - ETA: 3s - loss: 0.6484 - accuracy: 0.61 - ETA: 3s - loss: 0.6483 - accuracy: 0.61 - ETA: 3s - loss: 0.6483 - accuracy: 0.61 - ETA: 3s - loss: 0.6483 - accuracy: 0.61 - ETA: 3s - loss: 0.6484 - accuracy: 0.61 - ETA: 3s - loss: 0.6484 - accuracy: 0.61 - ETA: 3s - loss: 0.6484 - accuracy: 0.61 - ETA: 3s - loss: 0.6484 - accuracy: 0.61 - ETA: 3s - loss: 0.6484 - accuracy: 0.61 - ETA: 3s - loss: 0.6484 - accuracy: 0.61 - ETA: 3s - loss: 0.6484 - accuracy: 0.61 - ETA: 3s - loss: 0.6484 - accuracy: 0.61 - ETA: 2s - loss: 0.6484 - accuracy: 0.61 - ETA: 2s - loss: 0.6484 - accuracy: 0.61 - ETA: 2s - loss: 0.6484 - accuracy: 0.61 - ETA: 2s - loss: 0.6484 - accuracy: 0.61 - ETA: 2s - loss: 0.6484 - accuracy: 0.61 - ETA: 2s - loss: 0.6483 - accuracy: 0.61 - ETA: 2s - loss: 0.6484 - accuracy: 0.61 - ETA: 2s - loss: 0.6484 - accuracy: 0.61 - ETA: 2s - loss: 0.6484 - accuracy: 0.61 - ETA: 2s - loss: 0.6484 - accuracy: 0.61 - ETA: 2s - loss: 0.6484 - accuracy: 0.61 - ETA: 2s - loss: 0.6484 - accuracy: 0.61 - ETA: 2s - loss: 0.6484 - accuracy: 0.61 - ETA: 2s - loss: 0.6484 - accuracy: 0.61 - ETA: 2s - loss: 0.6484 - accuracy: 0.61 - ETA: 2s - loss: 0.6484 - accuracy: 0.61 - ETA: 2s - loss: 0.6483 - accuracy: 0.61 - ETA: 2s - loss: 0.6483 - accuracy: 0.61 - ETA: 1s - loss: 0.6483 - accuracy: 0.61 - ETA: 1s - loss: 0.6483 - accuracy: 0.61 - ETA: 1s - loss: 0.6484 - accuracy: 0.61 - ETA: 1s - loss: 0.6483 - accuracy: 0.61 - ETA: 1s - loss: 0.6484 - accuracy: 0.61 - ETA: 1s - loss: 0.6483 - accuracy: 0.61 - ETA: 1s - loss: 0.6484 - accuracy: 0.61 - ETA: 1s - loss: 0.6483 - accuracy: 0.61 - ETA: 1s - loss: 0.6483 - accuracy: 0.61 - ETA: 1s - loss: 0.6483 - accuracy: 0.61 - ETA: 1s - loss: 0.6483 - accuracy: 0.61 - ETA: 1s - loss: 0.6483 - accuracy: 0.61 - ETA: 1s - loss: 0.6483 - accuracy: 0.61 - ETA: 1s - loss: 0.6483 - accuracy: 0.61 - ETA: 1s - loss: 0.6483 - accuracy: 0.61 - ETA: 1s - loss: 0.6483 - accuracy: 0.61 - ETA: 1s - loss: 0.6483 - accuracy: 0.61 - ETA: 1s - loss: 0.6483 - accuracy: 0.61 - ETA: 1s - loss: 0.6484 - accuracy: 0.61 - ETA: 0s - loss: 0.6483 - accuracy: 0.61 - ETA: 0s - loss: 0.6483 - accuracy: 0.61 - ETA: 0s - loss: 0.6483 - accuracy: 0.61 - ETA: 0s - loss: 0.6483 - accuracy: 0.61 - ETA: 0s - loss: 0.6483 - accuracy: 0.61 - ETA: 0s - loss: 0.6483 - accuracy: 0.61 - ETA: 0s - loss: 0.6483 - accuracy: 0.61 - ETA: 0s - loss: 0.6483 - accuracy: 0.61 - ETA: 0s - loss: 0.6482 - accuracy: 0.61 - ETA: 0s - loss: 0.6482 - accuracy: 0.61 - ETA: 0s - loss: 0.6481 - accuracy: 0.61 - ETA: 0s - loss: 0.6481 - accuracy: 0.61 - ETA: 0s - loss: 0.6481 - accuracy: 0.61 - ETA: 0s - loss: 0.6481 - accuracy: 0.61 - ETA: 0s - loss: 0.6481 - accuracy: 0.61 - ETA: 0s - loss: 0.6480 - accuracy: 0.61 - ETA: 0s - loss: 0.6480 - accuracy: 0.61 - ETA: 0s - loss: 0.6481 - accuracy: 0.61 - 10s 24us/step - loss: 0.6481 - accuracy: 0.6163\n",
      "Epoch 2/5\n"
     ]
    },
    {
     "name": "stdout",
     "output_type": "stream",
     "text": [
      "403245/403245 [==============================] - ETA: 48s - loss: 0.6286 - accuracy: 0.620 - ETA: 10s - loss: 0.6350 - accuracy: 0.617 - ETA: 9s - loss: 0.6381 - accuracy: 0.623 - ETA: 9s - loss: 0.6433 - accuracy: 0.61 - ETA: 9s - loss: 0.6449 - accuracy: 0.61 - ETA: 9s - loss: 0.6457 - accuracy: 0.61 - ETA: 9s - loss: 0.6470 - accuracy: 0.61 - ETA: 9s - loss: 0.6468 - accuracy: 0.61 - ETA: 9s - loss: 0.6462 - accuracy: 0.61 - ETA: 9s - loss: 0.6470 - accuracy: 0.61 - ETA: 9s - loss: 0.6479 - accuracy: 0.61 - ETA: 9s - loss: 0.6485 - accuracy: 0.61 - ETA: 9s - loss: 0.6476 - accuracy: 0.61 - ETA: 9s - loss: 0.6474 - accuracy: 0.61 - ETA: 9s - loss: 0.6479 - accuracy: 0.61 - ETA: 9s - loss: 0.6474 - accuracy: 0.61 - ETA: 9s - loss: 0.6467 - accuracy: 0.61 - ETA: 9s - loss: 0.6465 - accuracy: 0.61 - ETA: 9s - loss: 0.6462 - accuracy: 0.61 - ETA: 9s - loss: 0.6462 - accuracy: 0.61 - ETA: 9s - loss: 0.6459 - accuracy: 0.61 - ETA: 9s - loss: 0.6463 - accuracy: 0.61 - ETA: 9s - loss: 0.6464 - accuracy: 0.61 - ETA: 9s - loss: 0.6461 - accuracy: 0.61 - ETA: 9s - loss: 0.6465 - accuracy: 0.61 - ETA: 8s - loss: 0.6466 - accuracy: 0.61 - ETA: 8s - loss: 0.6464 - accuracy: 0.61 - ETA: 8s - loss: 0.6465 - accuracy: 0.61 - ETA: 8s - loss: 0.6463 - accuracy: 0.61 - ETA: 8s - loss: 0.6461 - accuracy: 0.61 - ETA: 8s - loss: 0.6461 - accuracy: 0.61 - ETA: 8s - loss: 0.6462 - accuracy: 0.61 - ETA: 8s - loss: 0.6462 - accuracy: 0.61 - ETA: 8s - loss: 0.6460 - accuracy: 0.61 - ETA: 8s - loss: 0.6460 - accuracy: 0.61 - ETA: 8s - loss: 0.6459 - accuracy: 0.61 - ETA: 8s - loss: 0.6456 - accuracy: 0.61 - ETA: 8s - loss: 0.6458 - accuracy: 0.61 - ETA: 8s - loss: 0.6459 - accuracy: 0.61 - ETA: 7s - loss: 0.6460 - accuracy: 0.61 - ETA: 7s - loss: 0.6459 - accuracy: 0.61 - ETA: 7s - loss: 0.6458 - accuracy: 0.61 - ETA: 7s - loss: 0.6459 - accuracy: 0.61 - ETA: 7s - loss: 0.6458 - accuracy: 0.61 - ETA: 7s - loss: 0.6457 - accuracy: 0.61 - ETA: 7s - loss: 0.6456 - accuracy: 0.61 - ETA: 7s - loss: 0.6458 - accuracy: 0.61 - ETA: 7s - loss: 0.6460 - accuracy: 0.61 - ETA: 7s - loss: 0.6460 - accuracy: 0.61 - ETA: 7s - loss: 0.6460 - accuracy: 0.61 - ETA: 7s - loss: 0.6460 - accuracy: 0.61 - ETA: 7s - loss: 0.6461 - accuracy: 0.61 - ETA: 7s - loss: 0.6458 - accuracy: 0.61 - ETA: 7s - loss: 0.6458 - accuracy: 0.61 - ETA: 7s - loss: 0.6458 - accuracy: 0.61 - ETA: 7s - loss: 0.6460 - accuracy: 0.61 - ETA: 6s - loss: 0.6459 - accuracy: 0.61 - ETA: 6s - loss: 0.6459 - accuracy: 0.61 - ETA: 6s - loss: 0.6457 - accuracy: 0.61 - ETA: 6s - loss: 0.6456 - accuracy: 0.61 - ETA: 6s - loss: 0.6455 - accuracy: 0.61 - ETA: 6s - loss: 0.6456 - accuracy: 0.61 - ETA: 6s - loss: 0.6456 - accuracy: 0.61 - ETA: 6s - loss: 0.6455 - accuracy: 0.61 - ETA: 6s - loss: 0.6454 - accuracy: 0.61 - ETA: 6s - loss: 0.6455 - accuracy: 0.61 - ETA: 6s - loss: 0.6457 - accuracy: 0.61 - ETA: 6s - loss: 0.6459 - accuracy: 0.61 - ETA: 6s - loss: 0.6460 - accuracy: 0.61 - ETA: 6s - loss: 0.6460 - accuracy: 0.61 - ETA: 6s - loss: 0.6460 - accuracy: 0.61 - ETA: 6s - loss: 0.6460 - accuracy: 0.61 - ETA: 6s - loss: 0.6459 - accuracy: 0.61 - ETA: 6s - loss: 0.6457 - accuracy: 0.61 - ETA: 6s - loss: 0.6458 - accuracy: 0.61 - ETA: 5s - loss: 0.6459 - accuracy: 0.61 - ETA: 5s - loss: 0.6460 - accuracy: 0.61 - ETA: 5s - loss: 0.6460 - accuracy: 0.61 - ETA: 5s - loss: 0.6461 - accuracy: 0.61 - ETA: 5s - loss: 0.6459 - accuracy: 0.61 - ETA: 5s - loss: 0.6460 - accuracy: 0.61 - ETA: 5s - loss: 0.6459 - accuracy: 0.61 - ETA: 5s - loss: 0.6459 - accuracy: 0.61 - ETA: 5s - loss: 0.6460 - accuracy: 0.61 - ETA: 5s - loss: 0.6459 - accuracy: 0.61 - ETA: 5s - loss: 0.6459 - accuracy: 0.61 - ETA: 5s - loss: 0.6460 - accuracy: 0.61 - ETA: 5s - loss: 0.6459 - accuracy: 0.61 - ETA: 5s - loss: 0.6459 - accuracy: 0.61 - ETA: 5s - loss: 0.6459 - accuracy: 0.61 - ETA: 5s - loss: 0.6460 - accuracy: 0.61 - ETA: 5s - loss: 0.6460 - accuracy: 0.61 - ETA: 5s - loss: 0.6459 - accuracy: 0.61 - ETA: 5s - loss: 0.6459 - accuracy: 0.61 - ETA: 5s - loss: 0.6459 - accuracy: 0.61 - ETA: 4s - loss: 0.6459 - accuracy: 0.61 - ETA: 4s - loss: 0.6459 - accuracy: 0.61 - ETA: 4s - loss: 0.6460 - accuracy: 0.61 - ETA: 4s - loss: 0.6461 - accuracy: 0.61 - ETA: 4s - loss: 0.6460 - accuracy: 0.61 - ETA: 4s - loss: 0.6460 - accuracy: 0.61 - ETA: 4s - loss: 0.6460 - accuracy: 0.61 - ETA: 4s - loss: 0.6459 - accuracy: 0.61 - ETA: 4s - loss: 0.6460 - accuracy: 0.61 - ETA: 4s - loss: 0.6460 - accuracy: 0.61 - ETA: 4s - loss: 0.6461 - accuracy: 0.61 - ETA: 4s - loss: 0.6461 - accuracy: 0.61 - ETA: 4s - loss: 0.6461 - accuracy: 0.61 - ETA: 4s - loss: 0.6461 - accuracy: 0.61 - ETA: 4s - loss: 0.6461 - accuracy: 0.61 - ETA: 4s - loss: 0.6460 - accuracy: 0.61 - ETA: 4s - loss: 0.6461 - accuracy: 0.61 - ETA: 3s - loss: 0.6460 - accuracy: 0.61 - ETA: 3s - loss: 0.6459 - accuracy: 0.61 - ETA: 3s - loss: 0.6459 - accuracy: 0.61 - ETA: 3s - loss: 0.6460 - accuracy: 0.61 - ETA: 3s - loss: 0.6460 - accuracy: 0.61 - ETA: 3s - loss: 0.6460 - accuracy: 0.61 - ETA: 3s - loss: 0.6459 - accuracy: 0.61 - ETA: 3s - loss: 0.6459 - accuracy: 0.61 - ETA: 3s - loss: 0.6459 - accuracy: 0.61 - ETA: 3s - loss: 0.6458 - accuracy: 0.61 - ETA: 3s - loss: 0.6459 - accuracy: 0.61 - ETA: 3s - loss: 0.6459 - accuracy: 0.61 - ETA: 3s - loss: 0.6460 - accuracy: 0.61 - ETA: 3s - loss: 0.6459 - accuracy: 0.61 - ETA: 3s - loss: 0.6459 - accuracy: 0.61 - ETA: 3s - loss: 0.6459 - accuracy: 0.61 - ETA: 3s - loss: 0.6459 - accuracy: 0.61 - ETA: 3s - loss: 0.6458 - accuracy: 0.61 - ETA: 2s - loss: 0.6459 - accuracy: 0.61 - ETA: 2s - loss: 0.6460 - accuracy: 0.61 - ETA: 2s - loss: 0.6459 - accuracy: 0.61 - ETA: 2s - loss: 0.6459 - accuracy: 0.61 - ETA: 2s - loss: 0.6459 - accuracy: 0.61 - ETA: 2s - loss: 0.6459 - accuracy: 0.61 - ETA: 2s - loss: 0.6459 - accuracy: 0.61 - ETA: 2s - loss: 0.6459 - accuracy: 0.61 - ETA: 2s - loss: 0.6459 - accuracy: 0.61 - ETA: 2s - loss: 0.6459 - accuracy: 0.61 - ETA: 2s - loss: 0.6458 - accuracy: 0.61 - ETA: 2s - loss: 0.6458 - accuracy: 0.61 - ETA: 2s - loss: 0.6458 - accuracy: 0.61 - ETA: 2s - loss: 0.6458 - accuracy: 0.61 - ETA: 2s - loss: 0.6458 - accuracy: 0.61 - ETA: 2s - loss: 0.6459 - accuracy: 0.61 - ETA: 2s - loss: 0.6459 - accuracy: 0.61 - ETA: 2s - loss: 0.6458 - accuracy: 0.61 - ETA: 1s - loss: 0.6458 - accuracy: 0.61 - ETA: 1s - loss: 0.6458 - accuracy: 0.61 - ETA: 1s - loss: 0.6458 - accuracy: 0.61 - ETA: 1s - loss: 0.6459 - accuracy: 0.61 - ETA: 1s - loss: 0.6459 - accuracy: 0.61 - ETA: 1s - loss: 0.6458 - accuracy: 0.61 - ETA: 1s - loss: 0.6458 - accuracy: 0.61 - ETA: 1s - loss: 0.6459 - accuracy: 0.61 - ETA: 1s - loss: 0.6459 - accuracy: 0.61 - ETA: 1s - loss: 0.6458 - accuracy: 0.61 - ETA: 1s - loss: 0.6458 - accuracy: 0.61 - ETA: 1s - loss: 0.6457 - accuracy: 0.61 - ETA: 1s - loss: 0.6456 - accuracy: 0.61 - ETA: 1s - loss: 0.6456 - accuracy: 0.61 - ETA: 1s - loss: 0.6456 - accuracy: 0.61 - ETA: 1s - loss: 0.6456 - accuracy: 0.61 - ETA: 1s - loss: 0.6456 - accuracy: 0.61 - ETA: 1s - loss: 0.6457 - accuracy: 0.61 - ETA: 1s - loss: 0.6456 - accuracy: 0.61 - ETA: 0s - loss: 0.6457 - accuracy: 0.61 - ETA: 0s - loss: 0.6456 - accuracy: 0.61 - ETA: 0s - loss: 0.6457 - accuracy: 0.61 - ETA: 0s - loss: 0.6457 - accuracy: 0.61 - ETA: 0s - loss: 0.6457 - accuracy: 0.61 - ETA: 0s - loss: 0.6457 - accuracy: 0.61 - ETA: 0s - loss: 0.6457 - accuracy: 0.61 - ETA: 0s - loss: 0.6457 - accuracy: 0.61 - ETA: 0s - loss: 0.6457 - accuracy: 0.61 - ETA: 0s - loss: 0.6457 - accuracy: 0.61 - ETA: 0s - loss: 0.6457 - accuracy: 0.61 - ETA: 0s - loss: 0.6457 - accuracy: 0.61 - ETA: 0s - loss: 0.6457 - accuracy: 0.61 - ETA: 0s - loss: 0.6457 - accuracy: 0.61 - ETA: 0s - loss: 0.6456 - accuracy: 0.61 - ETA: 0s - loss: 0.6457 - accuracy: 0.61 - ETA: 0s - loss: 0.6456 - accuracy: 0.61 - ETA: 0s - loss: 0.6456 - accuracy: 0.61 - ETA: 0s - loss: 0.6457 - accuracy: 0.61 - ETA: 0s - loss: 0.6456 - accuracy: 0.61 - 10s 24us/step - loss: 0.6456 - accuracy: 0.6163\n",
      "Epoch 3/5\n"
     ]
    },
    {
     "name": "stdout",
     "output_type": "stream",
     "text": [
      "403245/403245 [==============================] - ETA: 48s - loss: 0.6200 - accuracy: 0.630 - ETA: 11s - loss: 0.6410 - accuracy: 0.623 - ETA: 10s - loss: 0.6406 - accuracy: 0.623 - ETA: 9s - loss: 0.6459 - accuracy: 0.612 - ETA: 9s - loss: 0.6472 - accuracy: 0.61 - ETA: 9s - loss: 0.6465 - accuracy: 0.61 - ETA: 9s - loss: 0.6452 - accuracy: 0.61 - ETA: 9s - loss: 0.6453 - accuracy: 0.61 - ETA: 9s - loss: 0.6438 - accuracy: 0.61 - ETA: 9s - loss: 0.6433 - accuracy: 0.61 - ETA: 9s - loss: 0.6429 - accuracy: 0.61 - ETA: 9s - loss: 0.6440 - accuracy: 0.61 - ETA: 9s - loss: 0.6431 - accuracy: 0.61 - ETA: 9s - loss: 0.6435 - accuracy: 0.61 - ETA: 9s - loss: 0.6439 - accuracy: 0.61 - ETA: 9s - loss: 0.6447 - accuracy: 0.61 - ETA: 9s - loss: 0.6440 - accuracy: 0.61 - ETA: 9s - loss: 0.6442 - accuracy: 0.61 - ETA: 9s - loss: 0.6444 - accuracy: 0.61 - ETA: 8s - loss: 0.6445 - accuracy: 0.61 - ETA: 8s - loss: 0.6445 - accuracy: 0.61 - ETA: 8s - loss: 0.6441 - accuracy: 0.61 - ETA: 8s - loss: 0.6439 - accuracy: 0.61 - ETA: 8s - loss: 0.6439 - accuracy: 0.61 - ETA: 8s - loss: 0.6437 - accuracy: 0.61 - ETA: 8s - loss: 0.6439 - accuracy: 0.61 - ETA: 8s - loss: 0.6440 - accuracy: 0.61 - ETA: 8s - loss: 0.6439 - accuracy: 0.61 - ETA: 8s - loss: 0.6435 - accuracy: 0.61 - ETA: 8s - loss: 0.6435 - accuracy: 0.61 - ETA: 8s - loss: 0.6435 - accuracy: 0.61 - ETA: 8s - loss: 0.6433 - accuracy: 0.61 - ETA: 8s - loss: 0.6433 - accuracy: 0.61 - ETA: 7s - loss: 0.6431 - accuracy: 0.61 - ETA: 7s - loss: 0.6432 - accuracy: 0.61 - ETA: 7s - loss: 0.6432 - accuracy: 0.61 - ETA: 7s - loss: 0.6434 - accuracy: 0.61 - ETA: 7s - loss: 0.6431 - accuracy: 0.61 - ETA: 7s - loss: 0.6434 - accuracy: 0.61 - ETA: 7s - loss: 0.6434 - accuracy: 0.61 - ETA: 7s - loss: 0.6436 - accuracy: 0.61 - ETA: 7s - loss: 0.6438 - accuracy: 0.61 - ETA: 7s - loss: 0.6438 - accuracy: 0.61 - ETA: 7s - loss: 0.6439 - accuracy: 0.61 - ETA: 7s - loss: 0.6439 - accuracy: 0.61 - ETA: 7s - loss: 0.6440 - accuracy: 0.61 - ETA: 7s - loss: 0.6442 - accuracy: 0.61 - ETA: 7s - loss: 0.6444 - accuracy: 0.61 - ETA: 7s - loss: 0.6442 - accuracy: 0.61 - ETA: 7s - loss: 0.6444 - accuracy: 0.61 - ETA: 7s - loss: 0.6445 - accuracy: 0.61 - ETA: 6s - loss: 0.6445 - accuracy: 0.61 - ETA: 6s - loss: 0.6444 - accuracy: 0.61 - ETA: 6s - loss: 0.6442 - accuracy: 0.61 - ETA: 6s - loss: 0.6442 - accuracy: 0.61 - ETA: 6s - loss: 0.6443 - accuracy: 0.61 - ETA: 6s - loss: 0.6443 - accuracy: 0.61 - ETA: 6s - loss: 0.6441 - accuracy: 0.61 - ETA: 6s - loss: 0.6441 - accuracy: 0.61 - ETA: 6s - loss: 0.6442 - accuracy: 0.61 - ETA: 6s - loss: 0.6442 - accuracy: 0.61 - ETA: 6s - loss: 0.6442 - accuracy: 0.61 - ETA: 6s - loss: 0.6442 - accuracy: 0.61 - ETA: 6s - loss: 0.6442 - accuracy: 0.61 - ETA: 6s - loss: 0.6442 - accuracy: 0.61 - ETA: 6s - loss: 0.6443 - accuracy: 0.61 - ETA: 6s - loss: 0.6443 - accuracy: 0.61 - ETA: 6s - loss: 0.6442 - accuracy: 0.61 - ETA: 6s - loss: 0.6443 - accuracy: 0.61 - ETA: 5s - loss: 0.6443 - accuracy: 0.61 - ETA: 5s - loss: 0.6443 - accuracy: 0.61 - ETA: 5s - loss: 0.6442 - accuracy: 0.61 - ETA: 5s - loss: 0.6443 - accuracy: 0.61 - ETA: 5s - loss: 0.6442 - accuracy: 0.61 - ETA: 5s - loss: 0.6443 - accuracy: 0.61 - ETA: 5s - loss: 0.6444 - accuracy: 0.61 - ETA: 5s - loss: 0.6444 - accuracy: 0.61 - ETA: 5s - loss: 0.6444 - accuracy: 0.61 - ETA: 5s - loss: 0.6445 - accuracy: 0.61 - ETA: 5s - loss: 0.6446 - accuracy: 0.61 - ETA: 5s - loss: 0.6444 - accuracy: 0.61 - ETA: 5s - loss: 0.6444 - accuracy: 0.61 - ETA: 5s - loss: 0.6442 - accuracy: 0.61 - ETA: 5s - loss: 0.6441 - accuracy: 0.61 - ETA: 5s - loss: 0.6442 - accuracy: 0.61 - ETA: 5s - loss: 0.6443 - accuracy: 0.61 - ETA: 5s - loss: 0.6443 - accuracy: 0.61 - ETA: 5s - loss: 0.6443 - accuracy: 0.61 - ETA: 4s - loss: 0.6444 - accuracy: 0.61 - ETA: 4s - loss: 0.6442 - accuracy: 0.61 - ETA: 4s - loss: 0.6443 - accuracy: 0.61 - ETA: 4s - loss: 0.6443 - accuracy: 0.61 - ETA: 4s - loss: 0.6443 - accuracy: 0.61 - ETA: 4s - loss: 0.6442 - accuracy: 0.61 - ETA: 4s - loss: 0.6443 - accuracy: 0.61 - ETA: 4s - loss: 0.6443 - accuracy: 0.61 - ETA: 4s - loss: 0.6443 - accuracy: 0.61 - ETA: 4s - loss: 0.6442 - accuracy: 0.61 - ETA: 4s - loss: 0.6442 - accuracy: 0.61 - ETA: 4s - loss: 0.6443 - accuracy: 0.61 - ETA: 4s - loss: 0.6444 - accuracy: 0.61 - ETA: 4s - loss: 0.6444 - accuracy: 0.61 - ETA: 4s - loss: 0.6444 - accuracy: 0.61 - ETA: 4s - loss: 0.6444 - accuracy: 0.61 - ETA: 4s - loss: 0.6444 - accuracy: 0.61 - ETA: 4s - loss: 0.6444 - accuracy: 0.61 - ETA: 4s - loss: 0.6444 - accuracy: 0.61 - ETA: 4s - loss: 0.6445 - accuracy: 0.61 - ETA: 3s - loss: 0.6445 - accuracy: 0.61 - ETA: 3s - loss: 0.6445 - accuracy: 0.61 - ETA: 3s - loss: 0.6445 - accuracy: 0.61 - ETA: 3s - loss: 0.6445 - accuracy: 0.61 - ETA: 3s - loss: 0.6445 - accuracy: 0.61 - ETA: 3s - loss: 0.6445 - accuracy: 0.61 - ETA: 3s - loss: 0.6444 - accuracy: 0.61 - ETA: 3s - loss: 0.6444 - accuracy: 0.61 - ETA: 3s - loss: 0.6444 - accuracy: 0.61 - ETA: 3s - loss: 0.6444 - accuracy: 0.61 - ETA: 3s - loss: 0.6444 - accuracy: 0.61 - ETA: 3s - loss: 0.6444 - accuracy: 0.61 - ETA: 3s - loss: 0.6444 - accuracy: 0.61 - ETA: 3s - loss: 0.6444 - accuracy: 0.61 - ETA: 3s - loss: 0.6444 - accuracy: 0.61 - ETA: 3s - loss: 0.6444 - accuracy: 0.61 - ETA: 3s - loss: 0.6444 - accuracy: 0.61 - ETA: 3s - loss: 0.6445 - accuracy: 0.61 - ETA: 3s - loss: 0.6444 - accuracy: 0.61 - ETA: 3s - loss: 0.6445 - accuracy: 0.61 - ETA: 2s - loss: 0.6446 - accuracy: 0.61 - ETA: 2s - loss: 0.6446 - accuracy: 0.61 - ETA: 2s - loss: 0.6446 - accuracy: 0.61 - ETA: 2s - loss: 0.6447 - accuracy: 0.61 - ETA: 2s - loss: 0.6447 - accuracy: 0.61 - ETA: 2s - loss: 0.6447 - accuracy: 0.61 - ETA: 2s - loss: 0.6447 - accuracy: 0.61 - ETA: 2s - loss: 0.6447 - accuracy: 0.61 - ETA: 2s - loss: 0.6447 - accuracy: 0.61 - ETA: 2s - loss: 0.6447 - accuracy: 0.61 - ETA: 2s - loss: 0.6448 - accuracy: 0.61 - ETA: 2s - loss: 0.6448 - accuracy: 0.61 - ETA: 2s - loss: 0.6447 - accuracy: 0.61 - ETA: 2s - loss: 0.6447 - accuracy: 0.61 - ETA: 2s - loss: 0.6447 - accuracy: 0.61 - ETA: 2s - loss: 0.6447 - accuracy: 0.61 - ETA: 2s - loss: 0.6446 - accuracy: 0.61 - ETA: 2s - loss: 0.6446 - accuracy: 0.61 - ETA: 2s - loss: 0.6446 - accuracy: 0.61 - ETA: 2s - loss: 0.6445 - accuracy: 0.61 - ETA: 2s - loss: 0.6446 - accuracy: 0.61 - ETA: 2s - loss: 0.6445 - accuracy: 0.61 - ETA: 1s - loss: 0.6445 - accuracy: 0.61 - ETA: 1s - loss: 0.6445 - accuracy: 0.61 - ETA: 1s - loss: 0.6444 - accuracy: 0.61 - ETA: 1s - loss: 0.6444 - accuracy: 0.61 - ETA: 1s - loss: 0.6444 - accuracy: 0.61 - ETA: 1s - loss: 0.6443 - accuracy: 0.61 - ETA: 1s - loss: 0.6443 - accuracy: 0.61 - ETA: 1s - loss: 0.6443 - accuracy: 0.61 - ETA: 1s - loss: 0.6444 - accuracy: 0.61 - ETA: 1s - loss: 0.6443 - accuracy: 0.61 - ETA: 1s - loss: 0.6443 - accuracy: 0.61 - ETA: 1s - loss: 0.6444 - accuracy: 0.61 - ETA: 1s - loss: 0.6445 - accuracy: 0.61 - ETA: 1s - loss: 0.6445 - accuracy: 0.61 - ETA: 1s - loss: 0.6446 - accuracy: 0.61 - ETA: 1s - loss: 0.6446 - accuracy: 0.61 - ETA: 1s - loss: 0.6445 - accuracy: 0.61 - ETA: 1s - loss: 0.6445 - accuracy: 0.61 - ETA: 1s - loss: 0.6445 - accuracy: 0.61 - ETA: 0s - loss: 0.6445 - accuracy: 0.61 - ETA: 0s - loss: 0.6445 - accuracy: 0.61 - ETA: 0s - loss: 0.6445 - accuracy: 0.61 - ETA: 0s - loss: 0.6445 - accuracy: 0.61 - ETA: 0s - loss: 0.6445 - accuracy: 0.61 - ETA: 0s - loss: 0.6445 - accuracy: 0.61 - ETA: 0s - loss: 0.6445 - accuracy: 0.61 - ETA: 0s - loss: 0.6445 - accuracy: 0.61 - ETA: 0s - loss: 0.6445 - accuracy: 0.61 - ETA: 0s - loss: 0.6445 - accuracy: 0.61 - ETA: 0s - loss: 0.6445 - accuracy: 0.61 - ETA: 0s - loss: 0.6445 - accuracy: 0.61 - ETA: 0s - loss: 0.6445 - accuracy: 0.61 - ETA: 0s - loss: 0.6445 - accuracy: 0.61 - ETA: 0s - loss: 0.6445 - accuracy: 0.61 - ETA: 0s - loss: 0.6445 - accuracy: 0.61 - ETA: 0s - loss: 0.6445 - accuracy: 0.61 - ETA: 0s - loss: 0.6445 - accuracy: 0.61 - ETA: 0s - loss: 0.6445 - accuracy: 0.61 - 10s 24us/step - loss: 0.6445 - accuracy: 0.6165\n",
      "Epoch 4/5\n"
     ]
    },
    {
     "name": "stdout",
     "output_type": "stream",
     "text": [
      "403245/403245 [==============================] - ETA: 48s - loss: 0.6891 - accuracy: 0.570 - ETA: 11s - loss: 0.6514 - accuracy: 0.609 - ETA: 10s - loss: 0.6494 - accuracy: 0.609 - ETA: 9s - loss: 0.6491 - accuracy: 0.611 - ETA: 9s - loss: 0.6475 - accuracy: 0.61 - ETA: 9s - loss: 0.6463 - accuracy: 0.61 - ETA: 9s - loss: 0.6463 - accuracy: 0.61 - ETA: 9s - loss: 0.6463 - accuracy: 0.61 - ETA: 9s - loss: 0.6458 - accuracy: 0.61 - ETA: 9s - loss: 0.6463 - accuracy: 0.61 - ETA: 8s - loss: 0.6466 - accuracy: 0.61 - ETA: 8s - loss: 0.6465 - accuracy: 0.61 - ETA: 8s - loss: 0.6466 - accuracy: 0.61 - ETA: 8s - loss: 0.6462 - accuracy: 0.61 - ETA: 8s - loss: 0.6464 - accuracy: 0.61 - ETA: 8s - loss: 0.6459 - accuracy: 0.61 - ETA: 8s - loss: 0.6453 - accuracy: 0.61 - ETA: 8s - loss: 0.6451 - accuracy: 0.61 - ETA: 8s - loss: 0.6454 - accuracy: 0.61 - ETA: 8s - loss: 0.6453 - accuracy: 0.61 - ETA: 8s - loss: 0.6455 - accuracy: 0.61 - ETA: 8s - loss: 0.6453 - accuracy: 0.61 - ETA: 8s - loss: 0.6454 - accuracy: 0.61 - ETA: 8s - loss: 0.6455 - accuracy: 0.61 - ETA: 8s - loss: 0.6452 - accuracy: 0.61 - ETA: 8s - loss: 0.6452 - accuracy: 0.61 - ETA: 8s - loss: 0.6453 - accuracy: 0.61 - ETA: 8s - loss: 0.6451 - accuracy: 0.61 - ETA: 7s - loss: 0.6451 - accuracy: 0.61 - ETA: 7s - loss: 0.6451 - accuracy: 0.61 - ETA: 7s - loss: 0.6450 - accuracy: 0.61 - ETA: 7s - loss: 0.6452 - accuracy: 0.61 - ETA: 7s - loss: 0.6452 - accuracy: 0.61 - ETA: 7s - loss: 0.6452 - accuracy: 0.61 - ETA: 7s - loss: 0.6449 - accuracy: 0.61 - ETA: 7s - loss: 0.6450 - accuracy: 0.61 - ETA: 7s - loss: 0.6449 - accuracy: 0.61 - ETA: 7s - loss: 0.6449 - accuracy: 0.61 - ETA: 7s - loss: 0.6448 - accuracy: 0.61 - ETA: 7s - loss: 0.6449 - accuracy: 0.61 - ETA: 7s - loss: 0.6445 - accuracy: 0.61 - ETA: 7s - loss: 0.6445 - accuracy: 0.61 - ETA: 7s - loss: 0.6446 - accuracy: 0.61 - ETA: 7s - loss: 0.6448 - accuracy: 0.61 - ETA: 7s - loss: 0.6446 - accuracy: 0.61 - ETA: 7s - loss: 0.6448 - accuracy: 0.61 - ETA: 7s - loss: 0.6450 - accuracy: 0.61 - ETA: 7s - loss: 0.6449 - accuracy: 0.61 - ETA: 6s - loss: 0.6447 - accuracy: 0.61 - ETA: 6s - loss: 0.6447 - accuracy: 0.61 - ETA: 6s - loss: 0.6445 - accuracy: 0.61 - ETA: 6s - loss: 0.6444 - accuracy: 0.61 - ETA: 6s - loss: 0.6444 - accuracy: 0.61 - ETA: 6s - loss: 0.6443 - accuracy: 0.61 - ETA: 6s - loss: 0.6443 - accuracy: 0.61 - ETA: 6s - loss: 0.6444 - accuracy: 0.61 - ETA: 6s - loss: 0.6446 - accuracy: 0.61 - ETA: 6s - loss: 0.6445 - accuracy: 0.61 - ETA: 6s - loss: 0.6446 - accuracy: 0.61 - ETA: 6s - loss: 0.6446 - accuracy: 0.61 - ETA: 6s - loss: 0.6445 - accuracy: 0.61 - ETA: 6s - loss: 0.6445 - accuracy: 0.61 - ETA: 6s - loss: 0.6445 - accuracy: 0.61 - ETA: 6s - loss: 0.6445 - accuracy: 0.61 - ETA: 6s - loss: 0.6445 - accuracy: 0.61 - ETA: 6s - loss: 0.6445 - accuracy: 0.61 - ETA: 6s - loss: 0.6445 - accuracy: 0.61 - ETA: 6s - loss: 0.6445 - accuracy: 0.61 - ETA: 6s - loss: 0.6443 - accuracy: 0.61 - ETA: 5s - loss: 0.6443 - accuracy: 0.61 - ETA: 5s - loss: 0.6443 - accuracy: 0.61 - ETA: 5s - loss: 0.6443 - accuracy: 0.61 - ETA: 5s - loss: 0.6442 - accuracy: 0.61 - ETA: 5s - loss: 0.6442 - accuracy: 0.61 - ETA: 5s - loss: 0.6442 - accuracy: 0.61 - ETA: 5s - loss: 0.6441 - accuracy: 0.61 - ETA: 5s - loss: 0.6442 - accuracy: 0.61 - ETA: 5s - loss: 0.6441 - accuracy: 0.61 - ETA: 5s - loss: 0.6441 - accuracy: 0.61 - ETA: 5s - loss: 0.6440 - accuracy: 0.61 - ETA: 5s - loss: 0.6440 - accuracy: 0.61 - ETA: 5s - loss: 0.6439 - accuracy: 0.61 - ETA: 5s - loss: 0.6439 - accuracy: 0.61 - ETA: 5s - loss: 0.6439 - accuracy: 0.61 - ETA: 5s - loss: 0.6439 - accuracy: 0.61 - ETA: 5s - loss: 0.6439 - accuracy: 0.61 - ETA: 5s - loss: 0.6437 - accuracy: 0.61 - ETA: 5s - loss: 0.6437 - accuracy: 0.61 - ETA: 4s - loss: 0.6437 - accuracy: 0.61 - ETA: 4s - loss: 0.6438 - accuracy: 0.61 - ETA: 4s - loss: 0.6438 - accuracy: 0.61 - ETA: 4s - loss: 0.6438 - accuracy: 0.61 - ETA: 4s - loss: 0.6438 - accuracy: 0.61 - ETA: 4s - loss: 0.6438 - accuracy: 0.61 - ETA: 4s - loss: 0.6438 - accuracy: 0.61 - ETA: 4s - loss: 0.6438 - accuracy: 0.61 - ETA: 4s - loss: 0.6438 - accuracy: 0.61 - ETA: 4s - loss: 0.6438 - accuracy: 0.61 - ETA: 4s - loss: 0.6436 - accuracy: 0.61 - ETA: 4s - loss: 0.6436 - accuracy: 0.61 - ETA: 4s - loss: 0.6435 - accuracy: 0.61 - ETA: 4s - loss: 0.6436 - accuracy: 0.61 - ETA: 4s - loss: 0.6436 - accuracy: 0.61 - ETA: 4s - loss: 0.6436 - accuracy: 0.61 - ETA: 4s - loss: 0.6436 - accuracy: 0.61 - ETA: 4s - loss: 0.6436 - accuracy: 0.61 - ETA: 4s - loss: 0.6436 - accuracy: 0.61 - ETA: 3s - loss: 0.6436 - accuracy: 0.61 - ETA: 3s - loss: 0.6437 - accuracy: 0.61 - ETA: 3s - loss: 0.6437 - accuracy: 0.61 - ETA: 3s - loss: 0.6438 - accuracy: 0.61 - ETA: 3s - loss: 0.6437 - accuracy: 0.61 - ETA: 3s - loss: 0.6438 - accuracy: 0.61 - ETA: 3s - loss: 0.6438 - accuracy: 0.61 - ETA: 3s - loss: 0.6438 - accuracy: 0.61 - ETA: 3s - loss: 0.6437 - accuracy: 0.61 - ETA: 3s - loss: 0.6437 - accuracy: 0.61 - ETA: 3s - loss: 0.6437 - accuracy: 0.61 - ETA: 3s - loss: 0.6437 - accuracy: 0.61 - ETA: 3s - loss: 0.6438 - accuracy: 0.61 - ETA: 3s - loss: 0.6437 - accuracy: 0.61 - ETA: 3s - loss: 0.6437 - accuracy: 0.61 - ETA: 3s - loss: 0.6437 - accuracy: 0.61 - ETA: 3s - loss: 0.6437 - accuracy: 0.61 - ETA: 3s - loss: 0.6437 - accuracy: 0.61 - ETA: 3s - loss: 0.6438 - accuracy: 0.61 - ETA: 3s - loss: 0.6438 - accuracy: 0.61 - ETA: 2s - loss: 0.6439 - accuracy: 0.61 - ETA: 2s - loss: 0.6439 - accuracy: 0.61 - ETA: 2s - loss: 0.6439 - accuracy: 0.61 - ETA: 2s - loss: 0.6438 - accuracy: 0.61 - ETA: 2s - loss: 0.6438 - accuracy: 0.61 - ETA: 2s - loss: 0.6438 - accuracy: 0.61 - ETA: 2s - loss: 0.6438 - accuracy: 0.61 - ETA: 2s - loss: 0.6438 - accuracy: 0.61 - ETA: 2s - loss: 0.6438 - accuracy: 0.61 - ETA: 2s - loss: 0.6438 - accuracy: 0.61 - ETA: 2s - loss: 0.6437 - accuracy: 0.61 - ETA: 2s - loss: 0.6437 - accuracy: 0.61 - ETA: 2s - loss: 0.6437 - accuracy: 0.61 - ETA: 2s - loss: 0.6437 - accuracy: 0.61 - ETA: 2s - loss: 0.6437 - accuracy: 0.61 - ETA: 2s - loss: 0.6437 - accuracy: 0.61 - ETA: 2s - loss: 0.6436 - accuracy: 0.61 - ETA: 2s - loss: 0.6435 - accuracy: 0.61 - ETA: 2s - loss: 0.6436 - accuracy: 0.61 - ETA: 2s - loss: 0.6436 - accuracy: 0.61 - ETA: 1s - loss: 0.6436 - accuracy: 0.61 - ETA: 1s - loss: 0.6437 - accuracy: 0.61 - ETA: 1s - loss: 0.6438 - accuracy: 0.61 - ETA: 1s - loss: 0.6438 - accuracy: 0.61 - ETA: 1s - loss: 0.6438 - accuracy: 0.61 - ETA: 1s - loss: 0.6437 - accuracy: 0.61 - ETA: 1s - loss: 0.6437 - accuracy: 0.61 - ETA: 1s - loss: 0.6437 - accuracy: 0.61 - ETA: 1s - loss: 0.6437 - accuracy: 0.61 - ETA: 1s - loss: 0.6437 - accuracy: 0.61 - ETA: 1s - loss: 0.6437 - accuracy: 0.61 - ETA: 1s - loss: 0.6436 - accuracy: 0.61 - ETA: 1s - loss: 0.6436 - accuracy: 0.61 - ETA: 1s - loss: 0.6436 - accuracy: 0.61 - ETA: 1s - loss: 0.6436 - accuracy: 0.61 - ETA: 1s - loss: 0.6436 - accuracy: 0.61 - ETA: 1s - loss: 0.6436 - accuracy: 0.61 - ETA: 1s - loss: 0.6436 - accuracy: 0.61 - ETA: 1s - loss: 0.6436 - accuracy: 0.61 - ETA: 0s - loss: 0.6436 - accuracy: 0.61 - ETA: 0s - loss: 0.6435 - accuracy: 0.61 - ETA: 0s - loss: 0.6436 - accuracy: 0.61 - ETA: 0s - loss: 0.6436 - accuracy: 0.61 - ETA: 0s - loss: 0.6436 - accuracy: 0.61 - ETA: 0s - loss: 0.6436 - accuracy: 0.61 - ETA: 0s - loss: 0.6436 - accuracy: 0.61 - ETA: 0s - loss: 0.6436 - accuracy: 0.61 - ETA: 0s - loss: 0.6436 - accuracy: 0.61 - ETA: 0s - loss: 0.6437 - accuracy: 0.61 - ETA: 0s - loss: 0.6437 - accuracy: 0.61 - ETA: 0s - loss: 0.6437 - accuracy: 0.61 - ETA: 0s - loss: 0.6437 - accuracy: 0.61 - ETA: 0s - loss: 0.6437 - accuracy: 0.61 - ETA: 0s - loss: 0.6437 - accuracy: 0.61 - ETA: 0s - loss: 0.6437 - accuracy: 0.61 - ETA: 0s - loss: 0.6437 - accuracy: 0.61 - ETA: 0s - loss: 0.6437 - accuracy: 0.61 - ETA: 0s - loss: 0.6437 - accuracy: 0.61 - ETA: 0s - loss: 0.6437 - accuracy: 0.61 - 10s 24us/step - loss: 0.6437 - accuracy: 0.6166\n",
      "Epoch 5/5\n"
     ]
    },
    {
     "name": "stdout",
     "output_type": "stream",
     "text": [
      "403245/403245 [==============================] - ETA: 52s - loss: 0.6784 - accuracy: 0.550 - ETA: 11s - loss: 0.6440 - accuracy: 0.623 - ETA: 10s - loss: 0.6428 - accuracy: 0.612 - ETA: 10s - loss: 0.6451 - accuracy: 0.615 - ETA: 9s - loss: 0.6472 - accuracy: 0.614 - ETA: 9s - loss: 0.6459 - accuracy: 0.61 - ETA: 9s - loss: 0.6468 - accuracy: 0.61 - ETA: 9s - loss: 0.6452 - accuracy: 0.61 - ETA: 9s - loss: 0.6453 - accuracy: 0.61 - ETA: 9s - loss: 0.6455 - accuracy: 0.61 - ETA: 9s - loss: 0.6452 - accuracy: 0.61 - ETA: 9s - loss: 0.6448 - accuracy: 0.61 - ETA: 9s - loss: 0.6441 - accuracy: 0.61 - ETA: 9s - loss: 0.6451 - accuracy: 0.61 - ETA: 9s - loss: 0.6449 - accuracy: 0.61 - ETA: 8s - loss: 0.6454 - accuracy: 0.61 - ETA: 8s - loss: 0.6451 - accuracy: 0.61 - ETA: 8s - loss: 0.6446 - accuracy: 0.61 - ETA: 8s - loss: 0.6440 - accuracy: 0.61 - ETA: 8s - loss: 0.6434 - accuracy: 0.61 - ETA: 8s - loss: 0.6434 - accuracy: 0.61 - ETA: 8s - loss: 0.6437 - accuracy: 0.61 - ETA: 8s - loss: 0.6437 - accuracy: 0.61 - ETA: 8s - loss: 0.6440 - accuracy: 0.61 - ETA: 8s - loss: 0.6437 - accuracy: 0.61 - ETA: 8s - loss: 0.6438 - accuracy: 0.61 - ETA: 8s - loss: 0.6437 - accuracy: 0.61 - ETA: 8s - loss: 0.6437 - accuracy: 0.61 - ETA: 8s - loss: 0.6440 - accuracy: 0.61 - ETA: 8s - loss: 0.6440 - accuracy: 0.61 - ETA: 8s - loss: 0.6439 - accuracy: 0.61 - ETA: 8s - loss: 0.6442 - accuracy: 0.61 - ETA: 8s - loss: 0.6442 - accuracy: 0.61 - ETA: 7s - loss: 0.6444 - accuracy: 0.61 - ETA: 7s - loss: 0.6440 - accuracy: 0.61 - ETA: 7s - loss: 0.6441 - accuracy: 0.61 - ETA: 7s - loss: 0.6439 - accuracy: 0.61 - ETA: 7s - loss: 0.6441 - accuracy: 0.61 - ETA: 7s - loss: 0.6440 - accuracy: 0.61 - ETA: 7s - loss: 0.6440 - accuracy: 0.61 - ETA: 7s - loss: 0.6438 - accuracy: 0.61 - ETA: 7s - loss: 0.6439 - accuracy: 0.61 - ETA: 7s - loss: 0.6442 - accuracy: 0.61 - ETA: 7s - loss: 0.6440 - accuracy: 0.61 - ETA: 7s - loss: 0.6440 - accuracy: 0.61 - ETA: 7s - loss: 0.6440 - accuracy: 0.61 - ETA: 7s - loss: 0.6439 - accuracy: 0.61 - ETA: 7s - loss: 0.6440 - accuracy: 0.61 - ETA: 7s - loss: 0.6437 - accuracy: 0.61 - ETA: 7s - loss: 0.6438 - accuracy: 0.61 - ETA: 7s - loss: 0.6438 - accuracy: 0.61 - ETA: 7s - loss: 0.6439 - accuracy: 0.61 - ETA: 7s - loss: 0.6439 - accuracy: 0.61 - ETA: 6s - loss: 0.6438 - accuracy: 0.61 - ETA: 6s - loss: 0.6438 - accuracy: 0.61 - ETA: 6s - loss: 0.6438 - accuracy: 0.61 - ETA: 6s - loss: 0.6438 - accuracy: 0.61 - ETA: 6s - loss: 0.6436 - accuracy: 0.61 - ETA: 6s - loss: 0.6435 - accuracy: 0.61 - ETA: 6s - loss: 0.6435 - accuracy: 0.61 - ETA: 6s - loss: 0.6434 - accuracy: 0.61 - ETA: 6s - loss: 0.6434 - accuracy: 0.61 - ETA: 6s - loss: 0.6433 - accuracy: 0.61 - ETA: 6s - loss: 0.6432 - accuracy: 0.61 - ETA: 6s - loss: 0.6433 - accuracy: 0.61 - ETA: 6s - loss: 0.6433 - accuracy: 0.61 - ETA: 6s - loss: 0.6431 - accuracy: 0.61 - ETA: 6s - loss: 0.6432 - accuracy: 0.61 - ETA: 6s - loss: 0.6432 - accuracy: 0.61 - ETA: 6s - loss: 0.6433 - accuracy: 0.61 - ETA: 6s - loss: 0.6433 - accuracy: 0.61 - ETA: 6s - loss: 0.6432 - accuracy: 0.61 - ETA: 6s - loss: 0.6433 - accuracy: 0.61 - ETA: 6s - loss: 0.6431 - accuracy: 0.61 - ETA: 6s - loss: 0.6432 - accuracy: 0.61 - ETA: 5s - loss: 0.6431 - accuracy: 0.61 - ETA: 5s - loss: 0.6432 - accuracy: 0.61 - ETA: 5s - loss: 0.6432 - accuracy: 0.61 - ETA: 5s - loss: 0.6432 - accuracy: 0.61 - ETA: 5s - loss: 0.6431 - accuracy: 0.61 - ETA: 5s - loss: 0.6431 - accuracy: 0.61 - ETA: 5s - loss: 0.6431 - accuracy: 0.61 - ETA: 5s - loss: 0.6430 - accuracy: 0.61 - ETA: 5s - loss: 0.6431 - accuracy: 0.61 - ETA: 5s - loss: 0.6430 - accuracy: 0.61 - ETA: 5s - loss: 0.6428 - accuracy: 0.61 - ETA: 5s - loss: 0.6427 - accuracy: 0.61 - ETA: 5s - loss: 0.6428 - accuracy: 0.61 - ETA: 5s - loss: 0.6428 - accuracy: 0.61 - ETA: 5s - loss: 0.6427 - accuracy: 0.61 - ETA: 5s - loss: 0.6428 - accuracy: 0.61 - ETA: 5s - loss: 0.6428 - accuracy: 0.61 - ETA: 5s - loss: 0.6428 - accuracy: 0.61 - ETA: 5s - loss: 0.6428 - accuracy: 0.61 - ETA: 4s - loss: 0.6427 - accuracy: 0.61 - ETA: 4s - loss: 0.6426 - accuracy: 0.61 - ETA: 4s - loss: 0.6425 - accuracy: 0.61 - ETA: 4s - loss: 0.6425 - accuracy: 0.61 - ETA: 4s - loss: 0.6425 - accuracy: 0.61 - ETA: 4s - loss: 0.6425 - accuracy: 0.61 - ETA: 4s - loss: 0.6425 - accuracy: 0.61 - ETA: 4s - loss: 0.6424 - accuracy: 0.61 - ETA: 4s - loss: 0.6423 - accuracy: 0.61 - ETA: 4s - loss: 0.6425 - accuracy: 0.61 - ETA: 4s - loss: 0.6425 - accuracy: 0.61 - ETA: 4s - loss: 0.6426 - accuracy: 0.61 - ETA: 4s - loss: 0.6426 - accuracy: 0.61 - ETA: 4s - loss: 0.6426 - accuracy: 0.61 - ETA: 4s - loss: 0.6426 - accuracy: 0.61 - ETA: 4s - loss: 0.6425 - accuracy: 0.61 - ETA: 4s - loss: 0.6425 - accuracy: 0.61 - ETA: 4s - loss: 0.6426 - accuracy: 0.61 - ETA: 4s - loss: 0.6426 - accuracy: 0.61 - ETA: 4s - loss: 0.6426 - accuracy: 0.61 - ETA: 3s - loss: 0.6426 - accuracy: 0.61 - ETA: 3s - loss: 0.6426 - accuracy: 0.61 - ETA: 3s - loss: 0.6426 - accuracy: 0.61 - ETA: 3s - loss: 0.6426 - accuracy: 0.61 - ETA: 3s - loss: 0.6427 - accuracy: 0.61 - ETA: 3s - loss: 0.6426 - accuracy: 0.61 - ETA: 3s - loss: 0.6426 - accuracy: 0.61 - ETA: 3s - loss: 0.6426 - accuracy: 0.61 - ETA: 3s - loss: 0.6425 - accuracy: 0.61 - ETA: 3s - loss: 0.6425 - accuracy: 0.61 - ETA: 3s - loss: 0.6425 - accuracy: 0.61 - ETA: 3s - loss: 0.6426 - accuracy: 0.61 - ETA: 3s - loss: 0.6427 - accuracy: 0.61 - ETA: 3s - loss: 0.6426 - accuracy: 0.61 - ETA: 3s - loss: 0.6427 - accuracy: 0.61 - ETA: 3s - loss: 0.6428 - accuracy: 0.61 - ETA: 3s - loss: 0.6427 - accuracy: 0.61 - ETA: 3s - loss: 0.6427 - accuracy: 0.61 - ETA: 3s - loss: 0.6426 - accuracy: 0.62 - ETA: 2s - loss: 0.6428 - accuracy: 0.62 - ETA: 2s - loss: 0.6428 - accuracy: 0.62 - ETA: 2s - loss: 0.6427 - accuracy: 0.62 - ETA: 2s - loss: 0.6426 - accuracy: 0.62 - ETA: 2s - loss: 0.6427 - accuracy: 0.62 - ETA: 2s - loss: 0.6427 - accuracy: 0.62 - ETA: 2s - loss: 0.6427 - accuracy: 0.62 - ETA: 2s - loss: 0.6427 - accuracy: 0.62 - ETA: 2s - loss: 0.6428 - accuracy: 0.61 - ETA: 2s - loss: 0.6427 - accuracy: 0.62 - ETA: 2s - loss: 0.6427 - accuracy: 0.62 - ETA: 2s - loss: 0.6427 - accuracy: 0.62 - ETA: 2s - loss: 0.6427 - accuracy: 0.62 - ETA: 2s - loss: 0.6426 - accuracy: 0.62 - ETA: 2s - loss: 0.6426 - accuracy: 0.62 - ETA: 2s - loss: 0.6426 - accuracy: 0.62 - ETA: 2s - loss: 0.6427 - accuracy: 0.62 - ETA: 2s - loss: 0.6427 - accuracy: 0.62 - ETA: 2s - loss: 0.6425 - accuracy: 0.62 - ETA: 1s - loss: 0.6426 - accuracy: 0.62 - ETA: 1s - loss: 0.6425 - accuracy: 0.62 - ETA: 1s - loss: 0.6426 - accuracy: 0.62 - ETA: 1s - loss: 0.6425 - accuracy: 0.62 - ETA: 1s - loss: 0.6425 - accuracy: 0.62 - ETA: 1s - loss: 0.6425 - accuracy: 0.62 - ETA: 1s - loss: 0.6426 - accuracy: 0.62 - ETA: 1s - loss: 0.6425 - accuracy: 0.62 - ETA: 1s - loss: 0.6425 - accuracy: 0.62 - ETA: 1s - loss: 0.6426 - accuracy: 0.62 - ETA: 1s - loss: 0.6425 - accuracy: 0.62 - ETA: 1s - loss: 0.6425 - accuracy: 0.62 - ETA: 1s - loss: 0.6425 - accuracy: 0.62 - ETA: 1s - loss: 0.6425 - accuracy: 0.62 - ETA: 1s - loss: 0.6426 - accuracy: 0.62 - ETA: 1s - loss: 0.6426 - accuracy: 0.62 - ETA: 1s - loss: 0.6426 - accuracy: 0.62 - ETA: 1s - loss: 0.6426 - accuracy: 0.62 - ETA: 1s - loss: 0.6426 - accuracy: 0.62 - ETA: 0s - loss: 0.6426 - accuracy: 0.62 - ETA: 0s - loss: 0.6426 - accuracy: 0.62 - ETA: 0s - loss: 0.6427 - accuracy: 0.62 - ETA: 0s - loss: 0.6427 - accuracy: 0.62 - ETA: 0s - loss: 0.6427 - accuracy: 0.62 - ETA: 0s - loss: 0.6427 - accuracy: 0.62 - ETA: 0s - loss: 0.6428 - accuracy: 0.62 - ETA: 0s - loss: 0.6428 - accuracy: 0.62 - ETA: 0s - loss: 0.6428 - accuracy: 0.62 - ETA: 0s - loss: 0.6428 - accuracy: 0.62 - ETA: 0s - loss: 0.6427 - accuracy: 0.62 - ETA: 0s - loss: 0.6427 - accuracy: 0.62 - ETA: 0s - loss: 0.6427 - accuracy: 0.62 - ETA: 0s - loss: 0.6428 - accuracy: 0.62 - ETA: 0s - loss: 0.6427 - accuracy: 0.62 - ETA: 0s - loss: 0.6428 - accuracy: 0.62 - ETA: 0s - loss: 0.6428 - accuracy: 0.62 - ETA: 0s - loss: 0.6427 - accuracy: 0.62 - ETA: 0s - loss: 0.6428 - accuracy: 0.61 - ETA: 0s - loss: 0.6428 - accuracy: 0.61 - 10s 24us/step - loss: 0.6428 - accuracy: 0.6198\n"
     ]
    },
    {
     "data": {
      "text/plain": [
       "<keras.callbacks.callbacks.History at 0x1ad57601f28>"
      ]
     },
     "execution_count": 15,
     "metadata": {},
     "output_type": "execute_result"
    }
   ],
   "source": [
    "model.fit(np.array(X),np.array(y),batch_size=100,epochs=5)"
   ]
  },
  {
   "cell_type": "code",
   "execution_count": 19,
   "metadata": {},
   "outputs": [],
   "source": [
    "def play():                               \n",
    "    env = gym.make('CartPole-v0') \n",
    "    observation = env.reset()\n",
    "    obs = observation\n",
    "    state = obs\n",
    "    done = False\n",
    "    tot_reward = 0.0\n",
    "    while not done:\n",
    "        env.render()                    \n",
    "        state = np.squeeze(state).reshape(1,4)\n",
    "        Q = model.predict(state)        \n",
    "        action = np.int(np.round(Q))\n",
    "        observation, reward, done, info = env.step(action)\n",
    "        obs = observation\n",
    "        state = obs    \n",
    "        tot_reward += reward\n",
    "        time.sleep(0.05)\n",
    "    env.close()\n",
    "    print('done')"
   ]
  },
  {
   "cell_type": "code",
   "execution_count": 20,
   "metadata": {},
   "outputs": [
    {
     "name": "stdout",
     "output_type": "stream",
     "text": [
      "done\n"
     ]
    }
   ],
   "source": [
    "play()"
   ]
  }
 ],
 "metadata": {
  "kernelspec": {
   "display_name": "Python 3",
   "language": "python",
   "name": "python3"
  },
  "language_info": {
   "codemirror_mode": {
    "name": "ipython",
    "version": 3
   },
   "file_extension": ".py",
   "mimetype": "text/x-python",
   "name": "python",
   "nbconvert_exporter": "python",
   "pygments_lexer": "ipython3",
   "version": "3.7.3"
  }
 },
 "nbformat": 4,
 "nbformat_minor": 2
}
